{
 "cells": [
  {
   "cell_type": "markdown",
   "metadata": {},
   "source": [
    "## Multiples of 3 or 5\n",
    "\n",
    "If we list all the natural numbers below $10$ that are multiples of $3$ or $5$, we get $3, 5, 6$ and $9$. The sum of these multiples is $23$.\n",
    "Find the sum of all the multiples of $3$ or $5$ below $1000$.\n",
    "\n",
    "### 1°\n",
    "\n",
    "Não pode esquecer que os 3 e 5 possuem múltiplos  em comum"
   ]
  },
  {
   "cell_type": "code",
   "execution_count": 93,
   "metadata": {},
   "outputs": [
    {
     "name": "stdout",
     "output_type": "stream",
     "text": [
      "233168\n"
     ]
    }
   ],
   "source": [
    "# 1° Sum all values and use combinations to subtract the repeated multiples.\n",
    "\n",
    "from itertools import combinations\n",
    "import math\n",
    "\n",
    "max_value = 1000\n",
    "multipliers = [3, 5]\n",
    "\n",
    "def combinations_prod(multipliers):\n",
    "    result = []\n",
    "    for comb in list(combinations(multipliers, 2)):\n",
    "        result.append(math.prod(comb))\n",
    "    return result\n",
    "\n",
    "def s_below(multipliers, max_value):\n",
    "    Tsum = 0\n",
    "    multipliersAdj = [multipliers, combinations_prod(multipliers)]\n",
    "    \n",
    "    for i, sign in enumerate([1, -1]):\n",
    "        for multiplier in multipliersAdj[i]:\n",
    "            for n in range(1, max_value):\n",
    "                result = multiplier * n\n",
    "                if result < max_value:\n",
    "                    Tsum += sign * result\n",
    "                else:\n",
    "                    break\n",
    "    return Tsum\n",
    "\n",
    "print(s_below(multipliers, max_value))"
   ]
  },
  {
   "cell_type": "markdown",
   "metadata": {},
   "source": [
    "### 2º\n",
    "\n",
    "As sequências 3, 6, 9, 12... e 5, 10, 15... são Progressões aritméticas e a fórmula para o enésimo termo e a soma dos \\(n\\) primeiros termos de uma progressão aritmética (PA) é dada por:\n",
    "\n",
    "\n",
    "$ a_n = a_1 + (n-1)\\cdot r $\n",
    "\n",
    "$ S_n = \\frac{n}{2} \\left(a_n + a_1 \\right) $\n",
    "\n",
    "onde:\n",
    "- $ S_n $ é a soma dos $n$ primeiros termos,\n",
    "- $ a $ é o primeiro termo da progressão,\n",
    "- $ r $ é a razão da progressão,\n",
    "- $ n $ é o número de termos.\n",
    "\n",
    "dado que queremos a soma dos múltiplos menores que um valor m, podemos escrever com $a_n = m$ e  $a_1 = r$ que $\\frac{m}{a_1} > n$, sendo $n$ o menor inteiro mais próximo de $\\frac{m}{a_1}$. Logo:\n",
    "\n",
    "\n",
    "$ S_n = \\frac{n}{2} \\left(a_1 \\cdot n  + a_1\\right) $\n",
    "\n"
   ]
  },
  {
   "cell_type": "code",
   "execution_count": 94,
   "metadata": {},
   "outputs": [
    {
     "name": "stdout",
     "output_type": "stream",
     "text": [
      "233168.0\n"
     ]
    }
   ],
   "source": [
    "# 2º In the same way as the previous one, but using arithmetic progressions (AP) to perform the sum.\n",
    "\n",
    "import math\n",
    "from itertools import combinations\n",
    "\n",
    "max_value = 1000\n",
    "multipliers = [3, 5]\n",
    "\n",
    "def combinations_prod(multipliers):\n",
    "    result = []\n",
    "    for comb in list(combinations(multipliers, 2)):\n",
    "        result.append(math.prod(comb))\n",
    "    return result \n",
    "\n",
    "def floor_adjusted(num):\n",
    "    if num == int(num):\n",
    "        return math.floor(num) - 1\n",
    "    else:\n",
    "        return math.floor(num)\n",
    "\n",
    "def s_below(multipliers, max_value):\n",
    "    Tsum = 0\n",
    "    multipliersAdj = [multipliers, combinations_prod(multipliers)]\n",
    "    for i, sign in enumerate([1, -1]):\n",
    "        for multiplier in multipliersAdj[i]:\n",
    "            n = floor_adjusted(max_value / multiplier)\n",
    "            Tsum += sign * (multiplier + multiplier * n) * n / 2\n",
    "    return Tsum\n",
    "\n",
    "print(s_below(multipliers, max_value))\n"
   ]
  },
  {
   "cell_type": "markdown",
   "metadata": {},
   "source": [
    "### 3º preguiça de fazer esse\n",
    "\n",
    "Como o problema aparece na presença de múltiplos comuns repetidos, vamos analisar a sequência mesclada.\n",
    "\n",
    "3, 5, 6, 9, 10, 12, 15, 18, 20, 21, 24, 25, 27, 30...\n",
    "\n",
    "É fácil de observar o seguinte padrão na diferença dos números:\n",
    "\n",
    "2, 1, 3, 1, 2, 3, 3, 2, 1, 3, 1, 2, 3...\n",
    "\n",
    "ou comparando as duas sequências temos:\n",
    "\n",
    "```\n",
    " 3    6    9    12     15      18   21...\n",
    "-2(5)+1 | -1(10)+2  |  15  |  -2(20)+1...\n",
    "```\n",
    "\n",
    "que forma o ciclo de soma partindo do zero \n",
    "\n",
    "3, 2, 1, 3, 1, 2, 0\n",
    "\n",
    "\n",
    "Com esses ciclos basta realizar a série de somas"
   ]
  },
  {
   "cell_type": "code",
   "execution_count": 101,
   "metadata": {},
   "outputs": [
    {
     "name": "stdout",
     "output_type": "stream",
     "text": [
      "[3, 5, 6, 9, 10, 12, 15, 17, 18, 21, 22, 24, 27, 29]\n",
      "[3, 2, 1, 3, 1, 2, 0, 3, 2, 1, 3, 1, 2, 0]\n"
     ]
    }
   ],
   "source": [
    "# 3º firts case \n",
    "\n",
    "def get_element(n):\n",
    "    # Diferenças padrão na sequência\n",
    "    differences = [2, 1, 3, 1, 2, 3]\n",
    "    \n",
    "    # Primeiro elemento da sequência\n",
    "    first_element = 3\n",
    "    \n",
    "    # Calcula o valor do n-ésimo elemento\n",
    "    current_value = first_element\n",
    "    for i in range(1, n):\n",
    "        current_value += differences[(i - 1) % len(differences)]\n",
    "    \n",
    "    return current_value\n",
    "\n",
    "# Exemplos de uso\n",
    "print([get_element(n) for n in range(1, 15)])\n",
    "\n",
    "#second case\n",
    "\n",
    "def get_element(n):\n",
    "    # Lista do ciclo\n",
    "    cycle = [3, 2, 1, 3, 1, 2, 0]\n",
    "    \n",
    "    # Posição no ciclo (n-1) porque queremos índice 0-based\n",
    "    position = (n - 1) % 7\n",
    "    \n",
    "    return cycle[position]\n",
    "\n",
    "# Exemplos de uso\n",
    "print([get_element(n) for n in range(1, 15)])\n",
    "\n",
    "\n",
    "#Asked ChatGPT to write these codes to the standards.\"\n"
   ]
  },
  {
   "cell_type": "markdown",
   "metadata": {},
   "source": [
    "### 4º o mais simples\n",
    "\n",
    " as vezes eu esqueço que existe '%'."
   ]
  },
  {
   "cell_type": "code",
   "execution_count": 99,
   "metadata": {},
   "outputs": [
    {
     "data": {
      "text/plain": [
       "233168"
      ]
     },
     "execution_count": 99,
     "metadata": {},
     "output_type": "execute_result"
    }
   ],
   "source": [
    "# 4º The best\n",
    "\n",
    "sum([x for x in range(1000) if x % 3 == 0 or x % 5 == 0])"
   ]
  }
 ],
 "metadata": {
  "kernelspec": {
   "display_name": "Python 3",
   "language": "python",
   "name": "python3"
  },
  "language_info": {
   "codemirror_mode": {
    "name": "ipython",
    "version": 3
   },
   "file_extension": ".py",
   "mimetype": "text/x-python",
   "name": "python",
   "nbconvert_exporter": "python",
   "pygments_lexer": "ipython3",
   "version": "3.11.9"
  }
 },
 "nbformat": 4,
 "nbformat_minor": 2
}
